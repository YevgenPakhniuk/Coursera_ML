{
 "cells": [
  {
   "cell_type": "code",
   "execution_count": 1,
   "metadata": {
    "collapsed": true
   },
   "outputs": [],
   "source": [
    "import pandas as pd\n",
    "import numpy as np\n",
    "\n",
    "dtype_dict = {'bathrooms':float, 'waterfront':int, 'sqft_above':int, 'sqft_living15':float, 'grade':int, 'yr_renovated':int, 'price':float, 'bedrooms':float, 'zipcode':str, 'long':float, 'sqft_lot15':float, 'sqft_living':float, 'floors':float, 'condition':int, 'lat':float, 'date':str, 'sqft_basement':int, 'yr_built':int, 'id':str, 'sqft_lot':int, 'view':int}\n",
    "\n",
    "kc_data = pd.read_csv('c://users/intel/Desktop/Coursera/Regression/week5/2_kc_house_data.csv', dtype=dtype_dict)\n",
    "training = pd.read_csv('c://users/intel/Desktop/Coursera/Regression/week5/2_kc_house_train_data.csv', dtype=dtype_dict)\n",
    "testing = pd.read_csv('c://users/intel/Desktop/Coursera/Regression/week5/2_kc_house_test_data.csv', dtype=dtype_dict)"
   ]
  },
  {
   "cell_type": "code",
   "execution_count": 2,
   "metadata": {
    "collapsed": true
   },
   "outputs": [],
   "source": [
    "def get_numpy_data(data_sframe, features, output):\n",
    "    data_sframe['constant'] = 1 # add a constant column to an SFrame\n",
    "    # prepend variable 'constant' to the features list\n",
    "    features = ['constant'] + features\n",
    "    # select the columns of data_SFrame given by the ‘features’ list into the SFrame ‘features_sframe’\n",
    "    features_sframe = data_sframe[features]\n",
    "    # this will convert the features_sframe into a numpy matrix with GraphLab Create >= 1.7!!\n",
    "    features_matrix = np.array(features_sframe)\n",
    "    # assign the column of data_sframe associated with the target to the variable ‘output_sarray’\n",
    "    output_sarray = data_sframe[output]\n",
    "    # this will convert the SArray into a numpy array:\n",
    "    output_sarray = np.array(output_sarray) # GraphLab Create>= 1.7!!\n",
    "    return(features_matrix, output_sarray)"
   ]
  },
  {
   "cell_type": "code",
   "execution_count": 3,
   "metadata": {
    "collapsed": true
   },
   "outputs": [],
   "source": [
    "def predict_output(feature_matrix, weights):\n",
    "    # assume feature_matrix is a numpy matrix containing the features as columns and weights is a corresponding numpy array\n",
    "    # create the predictions vector by using np.dot()\n",
    "    predictions = np.dot(feature_matrix, weights)\n",
    "    return(predictions)"
   ]
  },
  {
   "cell_type": "code",
   "execution_count": 6,
   "metadata": {
    "collapsed": true
   },
   "outputs": [],
   "source": [
    "def normalize_features(features):\n",
    "    norms = np.linalg.norm(features, axis=0)\n",
    "    normalized_features = features / norms\n",
    "    return (normalized_features, norms)"
   ]
  },
  {
   "cell_type": "code",
   "execution_count": 9,
   "metadata": {
    "collapsed": false
   },
   "outputs": [
    {
     "data": {
      "text/plain": [
       "(array([[[ 1.,  1.,  1.],\n",
       "         [ 1.,  1.,  1.],\n",
       "         [ 1.,  1.,  1.],\n",
       "         ..., \n",
       "         [ 1.,  1.,  1.],\n",
       "         [ 1.,  1.,  1.],\n",
       "         [ 1.,  1.,  1.]]]),\n",
       " array([[  1.00000000e+00,   1.18000000e+03,   3.00000000e+00],\n",
       "        [  1.00000000e+00,   2.57000000e+03,   3.00000000e+00],\n",
       "        [  1.00000000e+00,   7.70000000e+02,   2.00000000e+00],\n",
       "        ..., \n",
       "        [  1.00000000e+00,   1.02000000e+03,   2.00000000e+00],\n",
       "        [  1.00000000e+00,   1.60000000e+03,   3.00000000e+00],\n",
       "        [  1.00000000e+00,   1.02000000e+03,   2.00000000e+00]]))"
      ]
     },
     "execution_count": 9,
     "metadata": {},
     "output_type": "execute_result"
    }
   ],
   "source": [
    "normalize_features(get_numpy_data(kc_data, ['sqft_living', 'bedrooms'], 'price')[:-1])"
   ]
  },
  {
   "cell_type": "code",
   "execution_count": null,
   "metadata": {
    "collapsed": true
   },
   "outputs": [],
   "source": [
    "initial_weights = np.array([1.0,4.0,1.0])"
   ]
  },
  {
   "cell_type": "markdown",
   "metadata": {},
   "source": [
    "# Effect of L1 penalty"
   ]
  },
  {
   "cell_type": "code",
   "execution_count": 12,
   "metadata": {
    "collapsed": true
   },
   "outputs": [],
   "source": [
    "simple_features = ['sqft_living', 'bedrooms']\n",
    "my_output = 'price'\n",
    "(simple_feature_matrix, output) = get_numpy_data(kc_data, simple_features, my_output)"
   ]
  },
  {
   "cell_type": "code",
   "execution_count": 13,
   "metadata": {
    "collapsed": true
   },
   "outputs": [],
   "source": [
    "simple_feature_matrix, norms = normalize_features(simple_feature_matrix)"
   ]
  },
  {
   "cell_type": "code",
   "execution_count": 14,
   "metadata": {
    "collapsed": true
   },
   "outputs": [],
   "source": [
    "weights = np.array([1., 4., 1.])"
   ]
  },
  {
   "cell_type": "code",
   "execution_count": 15,
   "metadata": {
    "collapsed": true
   },
   "outputs": [],
   "source": [
    "prediction = predict_output(simple_feature_matrix, weights)"
   ]
  },
  {
   "cell_type": "code",
   "execution_count": 19,
   "metadata": {
    "collapsed": false
   },
   "outputs": [
    {
     "data": {
      "text/plain": [
       "array([[ 0.00680209,  0.00353021,  0.00583571],\n",
       "       [ 0.00680209,  0.00768869,  0.00583571],\n",
       "       [ 0.00680209,  0.00230361,  0.00389048],\n",
       "       ..., \n",
       "       [ 0.00680209,  0.00305154,  0.00389048],\n",
       "       [ 0.00680209,  0.00478673,  0.00583571],\n",
       "       [ 0.00680209,  0.00305154,  0.00389048]])"
      ]
     },
     "execution_count": 19,
     "metadata": {},
     "output_type": "execute_result"
    }
   ],
   "source": [
    "simple_feature_matrix"
   ]
  },
  {
   "cell_type": "code",
   "execution_count": 40,
   "metadata": {
    "collapsed": false
   },
   "outputs": [
    {
     "name": "stdout",
     "output_type": "stream",
     "text": [
      "[79400300.014523208, 87939470.823251516, 80966698.666239053]\n"
     ]
    }
   ],
   "source": [
    "ro=[]\n",
    "for i in (0, 1, 2):\n",
    "    #print(simple_feature_matrix[:,i])\n",
    "    ro.append( sum( simple_feature_matrix[:,i]*(output - prediction + weights[i]*simple_feature_matrix[:,i]) ) )\n",
    "print(ro)"
   ]
  },
  {
   "cell_type": "code",
   "execution_count": 41,
   "metadata": {
    "collapsed": false
   },
   "outputs": [
    {
     "data": {
      "text/plain": [
       "87939470.823251516"
      ]
     },
     "execution_count": 41,
     "metadata": {},
     "output_type": "execute_result"
    }
   ],
   "source": [
    "sum( simple_feature_matrix[:,1]*(output - prediction + weights[1]*simple_feature_matrix[:,1]))"
   ]
  },
  {
   "cell_type": "code",
   "execution_count": 102,
   "metadata": {
    "collapsed": false
   },
   "outputs": [
    {
     "data": {
      "text/plain": [
       "(87939470.823251516,\n",
       " 80966698.666239053,\n",
       " 175878941.64650303,\n",
       " 161933397.33247811)"
      ]
     },
     "execution_count": 102,
     "metadata": {},
     "output_type": "execute_result"
    }
   ],
   "source": [
    "ro[1], ro[2], ro[1]*2, ro[2]*2"
   ]
  },
  {
   "cell_type": "code",
   "execution_count": 48,
   "metadata": {
    "collapsed": true
   },
   "outputs": [],
   "source": [
    "def lasso_coordinate_descent_step(i, feature_matrix, output, weights, l1_penalty):\n",
    "    # compute prediction\n",
    "    prediction = predict_output(feature_matrix, weights)\n",
    "    # compute ro[i] = SUM[ [feature_i]*(output - prediction + weight[i]*[feature_i]) ]\n",
    "    ro_i = sum( feature_matrix[:,i]*(output - prediction + weights[i]*feature_matrix[:,i]) )\n",
    "\n",
    "    if i == 0: # intercept -- do not regularize\n",
    "        new_weight_i = ro_i \n",
    "    elif ro_i < -l1_penalty/2.:\n",
    "        new_weight_i = (ro_i + l1_penalty/2)  \n",
    "    elif ro_i > l1_penalty/2.:\n",
    "        new_weight_i = (ro_i - l1_penalty/2)\n",
    "    else:\n",
    "        new_weight_i = 0.\n",
    "    \n",
    "    return new_weight_i"
   ]
  },
  {
   "cell_type": "code",
   "execution_count": 50,
   "metadata": {
    "collapsed": false
   },
   "outputs": [
    {
     "name": "stdout",
     "output_type": "stream",
     "text": [
      "0.425558846691\n"
     ]
    }
   ],
   "source": [
    "import math\n",
    "print (lasso_coordinate_descent_step(1, np.array([[3./math.sqrt(13),1./math.sqrt(10)],[2./math.sqrt(13),3./math.sqrt(10)]]), \n",
    "                                   np.array([1., 1.]), np.array([1., 4.]), 0.1) )"
   ]
  },
  {
   "cell_type": "markdown",
   "metadata": {},
   "source": [
    "# Cyclical coordinate descent"
   ]
  },
  {
   "cell_type": "code",
   "execution_count": 63,
   "metadata": {
    "collapsed": true
   },
   "outputs": [],
   "source": [
    "curr_coord_change = []\n",
    "coord_change = []\n",
    "def lasso_cyclical_coordinate_descent(feature_matrix, output, initial_weights, l1_penalty, tolerance):\n",
    "    enough = False \n",
    "    weights = np.array(initial_weights)\n",
    "    while not enough:\n",
    "        for i in range(len(weights)):\n",
    "            old_weights_i = weights[i] # remember old value of weight[i], as it will be overwritten\n",
    "        # the following line uses new values for weight[0], weight[1], ..., weight[i-1]\n",
    "        #     and old values for weight[i], ..., weight[d-1]\n",
    "            weights[i] = lasso_coordinate_descent_step(i, feature_matrix, output, weights, l1_penalty)\n",
    "        # use old_weights_i to compute change in coordinate\n",
    "            curr_coord_change.append(weights[i] - old_weights_i)\n",
    "            coord_change.append([i, weights[i] - old_weights_i, weights[i], old_weights_i])\n",
    "        if max(curr_coord_change) < tolerance:\n",
    "            enough = True\n",
    "        else: curr_coord_change[:] = []\n",
    "    return(weights)"
   ]
  },
  {
   "cell_type": "code",
   "execution_count": 87,
   "metadata": {
    "collapsed": true
   },
   "outputs": [],
   "source": [
    "simple_features = ['sqft_living', 'bedrooms']\n",
    "my_output = 'price'\n",
    "initial_weights = np.zeros(3)\n",
    "l1_penalty = 1e7\n",
    "tolerance = 1.0"
   ]
  },
  {
   "cell_type": "code",
   "execution_count": 88,
   "metadata": {
    "collapsed": true
   },
   "outputs": [],
   "source": [
    "(simple_feature_matrix, output) = get_numpy_data(kc_data, simple_features, my_output)\n",
    "(normalized_simple_feature_matrix, simple_norms) = normalize_features(simple_feature_matrix) # normalize features"
   ]
  },
  {
   "cell_type": "code",
   "execution_count": 89,
   "metadata": {
    "collapsed": false
   },
   "outputs": [],
   "source": [
    "weights = lasso_cyclical_coordinate_descent(normalized_simple_feature_matrix, output,\n",
    "                                            initial_weights, l1_penalty, tolerance)"
   ]
  },
  {
   "cell_type": "code",
   "execution_count": 66,
   "metadata": {
    "collapsed": false
   },
   "outputs": [
    {
     "data": {
      "text/plain": [
       "array([ 21624998.81906021,  63157246.42159428,         0.        ])"
      ]
     },
     "execution_count": 66,
     "metadata": {},
     "output_type": "execute_result"
    }
   ],
   "source": [
    "weights"
   ]
  },
  {
   "cell_type": "code",
   "execution_count": 62,
   "metadata": {
    "collapsed": false
   },
   "outputs": [
    {
     "name": "stdout",
     "output_type": "stream",
     "text": [
      "11672925008.0 2.9394402547e+13 41618028485.0\n"
     ]
    }
   ],
   "source": [
    "print(\n",
    "    lasso_coordinate_descent_step(0, simple_feature_matrix, output, initial_weights, l1_penalty),\n",
    "    lasso_coordinate_descent_step(1, simple_feature_matrix, output, initial_weights, l1_penalty),\n",
    "    lasso_coordinate_descent_step(2, simple_feature_matrix, output, initial_weights, l1_penalty)\n",
    "    )"
   ]
  },
  {
   "cell_type": "markdown",
   "metadata": {},
   "source": [
    "curr_coord_change"
   ]
  },
  {
   "cell_type": "code",
   "execution_count": 65,
   "metadata": {
    "collapsed": false
   },
   "outputs": [
    {
     "data": {
      "text/plain": [
       "[[0, 79400304.637645125, 79400304.637645125, 0.0],\n",
       " [1, 10305258.704948779, 10305258.704948779, 0.0],\n",
       " [2, -299724.16960754152, -299724.16960754152, 0.0],\n",
       " [0, -9138168.3764282316, 70262136.261216894, 79400304.637645125],\n",
       " [1, 8642337.0598186441, 18947595.764767423, 10305258.704948779],\n",
       " [2, 299724.16960754152, 0.0, -299724.16960754152],\n",
       " [0, -8194809.5183830634, 62067326.74283383, 70262136.261216894],\n",
       " [1, 7213612.4987342916, 26161208.263501715, 18947595.764767423],\n",
       " [2, 0.0, 0.0, 0.0],\n",
       " [0, -6598905.0819197744, 55468421.660914056, 62067326.74283383],\n",
       " [1, 6036579.9088638164, 32197788.172365531, 26161208.263501715],\n",
       " [2, 0.0, 0.0, 0.0],\n",
       " [0, -5522173.2308196351, 49946248.430094421, 55468421.660914056],\n",
       " [1, 5051601.677036725, 37249389.849402256, 32197788.172365531],\n",
       " [2, 0.0, 0.0, 0.0],\n",
       " [0, -4621129.8408785611, 45325118.58921586, 49946248.430094421],\n",
       " [1, 4227340.6280883104, 41476730.477490567, 37249389.849402256],\n",
       " [2, 0.0, 0.0, 0.0],\n",
       " [0, -3867108.1318259537, 41458010.457389906, 45325118.58921586],\n",
       " [1, 3537572.8191554919, 45014303.296646059, 41476730.477490567],\n",
       " [2, 0.0, 0.0, 0.0],\n",
       " [0, -3236118.8320116922, 38221891.625378214, 41458010.457389906],\n",
       " [1, 2960353.2224672884, 47974656.519113347, 45014303.296646059],\n",
       " [2, 0.0, 0.0, 0.0],\n",
       " [0, -2708086.9574636221, 35513804.667914592, 38221891.625378214],\n",
       " [1, 2477317.5422192439, 50451974.061332591, 47974656.519113347],\n",
       " [2, 0.0, 0.0, 0.0],\n",
       " [0, -2266213.1243875846, 33247591.543527007, 35513804.667914592],\n",
       " [1, 2073097.9527741, 52525072.014106691, 50451974.061332591],\n",
       " [2, 0.0, 0.0, 0.0],\n",
       " [0, -1896439.0751902051, 31351152.468336802, 33247591.543527007],\n",
       " [1, 1734834.1698452532, 54259906.183951944, 52525072.014106691],\n",
       " [2, 0.0, 0.0, 0.0],\n",
       " [0, -1587000.4136885703, 29764152.054648232, 31351152.468336802],\n",
       " [1, 1451764.2993353754, 55711670.48328732, 54259906.183951944],\n",
       " [2, 0.0, 0.0, 0.0],\n",
       " [0, -1328052.3197378442, 28436099.734910388, 29764152.054648232],\n",
       " [1, 1214882.4466669932, 56926552.929954313, 55711670.48328732],\n",
       " [2, 0.0, 0.0, 0.0],\n",
       " [0, -1111356.335352648, 27324743.399557739, 28436099.734910388],\n",
       " [1, 1016652.1934011877, 57943205.1233555, 56926552.929954313],\n",
       " [2, 0.0, 0.0, 0.0],\n",
       " [0, -930018.2573928684, 26394725.142164871, 27324743.399557739],\n",
       " [1, 850766.82536867261, 58793971.948724173, 57943205.1233555],\n",
       " [2, 0.0, 0.0, 0.0],\n",
       " [0, -778268.79783733562, 25616456.344327535, 26394725.142164871],\n",
       " [1, 711948.68397045881, 59505920.632694632, 58793971.948724173],\n",
       " [2, 0.0, 0.0, 0.0],\n",
       " [0, -651280.03334566578, 24965176.31098187, 25616456.344327535],\n",
       " [1, 595781.2569713369, 60101701.889665969, 59505920.632694632],\n",
       " [2, 0.0, 0.0, 0.0],\n",
       " [0, -545011.80442270637, 24420164.506559163, 24965176.31098187],\n",
       " [1, 498568.66674564034, 60600270.556411609, 60101701.889665969],\n",
       " [2, 0.0, 0.0, 0.0],\n",
       " [0, -456083.17736076191, 23964081.329198401, 24420164.506559163],\n",
       " [1, 417218.08558308333, 61017488.641994692, 60600270.556411609],\n",
       " [2, 0.0, 0.0, 0.0],\n",
       " [0, -381664.87951881438, 23582416.449679587, 23964081.329198401],\n",
       " [1, 349141.33708844334, 61366629.979083136, 61017488.641994692],\n",
       " [2, 0.0, 0.0, 0.0],\n",
       " [0, -319389.28574628755, 23263027.163933299, 23582416.449679587],\n",
       " [1, 292172.55309955031, 61658802.532182686, 61366629.979083136],\n",
       " [2, 0.0, 0.0, 0.0],\n",
       " [0, -267275.09216555208, 22995752.071767747, 23263027.163933299],\n",
       " [1, 244499.26638970524, 61903301.798572391, 61658802.532182686],\n",
       " [2, 0.0, 0.0, 0.0],\n",
       " [0, -223664.2808008045, 22772087.790966943, 22995752.071767747],\n",
       " [1, 204604.74685610086, 62107906.545428492, 61903301.798572391],\n",
       " [2, 0.0, 0.0, 0.0],\n",
       " [0, -187169.36958434805, 22584918.421382595, 22772087.790966943],\n",
       " [1, 171219.74660315365, 62279126.292031646, 62107906.545428492],\n",
       " [2, 0.0, 0.0, 0.0],\n",
       " [0, -156629.26947935298, 22428289.151903242, 22584918.421382595],\n",
       " [1, 143282.11870670319, 62422408.410738349, 62279126.292031646],\n",
       " [2, 0.0, 0.0, 0.0],\n",
       " [0, -131072.34432791173, 22297216.80757533, 22428289.151903242],\n",
       " [1, 119903.02490468323, 62542311.435643032, 62422408.410738349],\n",
       " [2, 0.0, 0.0, 0.0],\n",
       " [0, -109685.4981494844, 22187531.309425846, 22297216.80757533],\n",
       " [1, 100338.65712574124, 62642650.092768773, 62542311.435643032],\n",
       " [2, 0.0, 0.0, 0.0],\n",
       " [0, -91788.306418627501, 22095743.003007218, 22187531.309425846],\n",
       " [1, 83966.573168739676, 62726616.665937513, 62642650.092768773],\n",
       " [2, 0.0, 0.0, 0.0],\n",
       " [0, -76811.368297565728, 22018931.634709653, 22095743.003007218],\n",
       " [1, 70265.893641412258, 62796882.559578925, 62726616.665937513],\n",
       " [2, 0.0, 0.0, 0.0],\n",
       " [0, -64278.191089048982, 21954653.443620604, 22018931.634709653],\n",
       " [1, 58800.730134800076, 62855683.289713725, 62796882.559578925],\n",
       " [2, 0.0, 0.0, 0.0],\n",
       " [0, -53790.030580919236, 21900863.413039684, 21954653.443620604],\n",
       " [1, 49206.31739243865, 62904889.607106164, 62855683.289713725],\n",
       " [2, 0.0, 0.0, 0.0],\n",
       " [0, -45013.204959481955, 21855850.208080202, 21900863.413039684],\n",
       " [1, 41177.408269926906, 62946067.015376091, 62904889.607106164],\n",
       " [2, 0.0, 0.0, 0.0],\n",
       " [0, -37668.478690944612, 21818181.729389258, 21855850.208080202],\n",
       " [1, 34458.562266945839, 62980525.577643037, 62946067.015376091],\n",
       " [2, 0.0, 0.0, 0.0],\n",
       " [0, -31522.178617041558, 21786659.550772216, 21818181.729389258],\n",
       " [1, 28836.0186676085, 63009361.596310645, 62980525.577643037],\n",
       " [2, 0.0, 0.0, 0.0],\n",
       " [0, -26378.759624496102, 21760280.79114772, 21786659.550772216],\n",
       " [1, 24130.895715579391, 63033492.492026225, 63009361.596310645],\n",
       " [2, 0.0, 0.0, 0.0],\n",
       " [0, -22074.583351384848, 21738206.207796335, 21760280.79114772],\n",
       " [1, 20193.499481722713, 63053685.991507947, 63033492.492026225],\n",
       " [2, 0.0, 0.0, 0.0],\n",
       " [0, -18472.71202544868, 21719733.495770887, 21738206.207796335],\n",
       " [1, 16898.561336159706, 63070584.552844107, 63053685.991507947],\n",
       " [2, 0.0, 0.0, 0.0],\n",
       " [0, -15458.551772430539, 21704274.943998456, 21719733.495770887],\n",
       " [1, 14141.252509564161, 63084725.805353671, 63070584.552844107],\n",
       " [2, 0.0, 0.0, 0.0],\n",
       " [0, -12936.206798862666, 21691338.737199593, 21704274.943998456],\n",
       " [1, 11833.848962605, 63096559.654316276, 63084725.805353671],\n",
       " [2, 0.0, 0.0, 0.0],\n",
       " [0, -10825.428461924195, 21680513.308737669, 21691338.737199593],\n",
       " [1, 9902.9404339343309, 63106462.594750211, 63096559.654316276],\n",
       " [2, 0.0, 0.0, 0.0],\n",
       " [0, -9059.0621505640447, 21671454.246587105, 21680513.308737669],\n",
       " [1, 8287.0948879718781, 63114749.689638183, 63106462.594750211],\n",
       " [2, 0.0, 0.0, 0.0],\n",
       " [0, -7580.9107544161379, 21663873.335832689, 21671454.246587105],\n",
       " [1, 6934.9040465205908, 63121684.593684703, 63114749.689638183],\n",
       " [2, 0.0, 0.0, 0.0],\n",
       " [0, -6343.9467484913766, 21657529.389084198, 21663873.335832689],\n",
       " [1, 5803.3478295505047, 63127487.941514254, 63121684.593684703],\n",
       " [2, 0.0, 0.0, 0.0],\n",
       " [0, -5308.8160045742989, 21652220.573079623, 21657529.389084198],\n",
       " [1, 4856.425669670105, 63132344.367183924, 63127487.941514254],\n",
       " [2, 0.0, 0.0, 0.0],\n",
       " [0, -4442.5857414342463, 21647777.987338189, 21652220.573079623],\n",
       " [1, 4064.0111499428749, 63136408.378333867, 63132344.367183924],\n",
       " [2, 0.0, 0.0, 0.0],\n",
       " [0, -3717.6967621780932, 21644060.290576011, 21647777.987338189],\n",
       " [1, 3400.8935277462006, 63139809.271861613, 63136408.378333867],\n",
       " [2, 0.0, 0.0, 0.0],\n",
       " [0, -3111.0866558030248, 21640949.203920208, 21644060.290576011],\n",
       " [1, 2845.9756535440683, 63142655.247515157, 63139809.271861613],\n",
       " [2, 0.0, 0.0, 0.0],\n",
       " [0, -2603.4560639038682, 21638345.747856304, 21640949.203920208],\n",
       " [1, 2381.6027612239122, 63145036.850276381, 63142655.247515157],\n",
       " [2, 0.0, 0.0, 0.0],\n",
       " [0, -2178.6546708270907, 21636167.093185477, 21638345.747856304],\n",
       " [1, 1993.0007858127356, 63147029.851062194, 63145036.850276381],\n",
       " [2, 0.0, 0.0, 0.0],\n",
       " [0, -1823.1673819087446, 21634343.925803568, 21636167.093185477],\n",
       " [1, 1667.8063185214996, 63148697.657380715, 63147029.851062194],\n",
       " [2, 0.0, 0.0, 0.0],\n",
       " [0, -1525.6843356154859, 21632818.241467953, 21634343.925803568],\n",
       " [1, 1395.6732663214207, 63150093.330647036, 63148697.657380715],\n",
       " [2, 0.0, 0.0, 0.0],\n",
       " [0, -1276.7410795204341, 21631541.500388432, 21632818.241467953],\n",
       " [1, 1167.9436890482903, 63151261.274336085, 63150093.330647036],\n",
       " [2, 0.0, 0.0, 0.0],\n",
       " [0, -1068.4174601994455, 21630473.082928233, 21631541.500388432],\n",
       " [1, 977.37235105037689, 63152238.646687135, 63151261.274336085],\n",
       " [2, 0.0, 0.0, 0.0],\n",
       " [0, -894.08564367517829, 21629578.997284558, 21630473.082928233],\n",
       " [1, 817.89620678126812, 63153056.542893916, 63152238.646687135],\n",
       " [2, 0.0, 0.0, 0.0],\n",
       " [0, -748.19924635067582, 21628830.798038207, 21629578.997284558],\n",
       " [1, 684.44150696694851, 63153740.984400883, 63153056.542893916],\n",
       " [2, 0.0, 0.0, 0.0],\n",
       " [0, -626.11687842383981, 21628204.681159783, 21628830.798038207],\n",
       " [1, 572.76237791776657, 63154313.746778801, 63153740.984400883],\n",
       " [2, 0.0, 0.0, 0.0],\n",
       " [0, -523.95447736233473, 21627680.726682421, 21628204.681159783],\n",
       " [1, 479.30573862791061, 63154793.052517429, 63154313.746778801],\n",
       " [2, 0.0, 0.0, 0.0],\n",
       " [0, -438.46173802018166, 21627242.264944401, 21627680.726682421],\n",
       " [1, 401.0982558131218, 63155194.150773242, 63154793.052517429],\n",
       " [2, 0.0, 0.0, 0.0],\n",
       " [0, -366.91869978234172, 21626875.346244618, 21627242.264944401],\n",
       " [1, 335.65175135433674, 63155529.802524596, 63155194.150773242],\n",
       " [2, 0.0, 0.0, 0.0],\n",
       " [0, -307.04921404644847, 21626568.297030572, 21626875.346244618],\n",
       " [1, 280.88403981924057, 63155810.686564416, 63155529.802524596],\n",
       " [2, 0.0, 0.0, 0.0],\n",
       " [0, -256.94852867722511, 21626311.348501895, 21626568.297030572],\n",
       " [1, 235.05268053710461, 63156045.739244953, 63155810.686564416],\n",
       " [2, 0.0, 0.0, 0.0],\n",
       " [0, -215.02268483489752, 21626096.32581706, 21626311.348501895],\n",
       " [1, 196.69954366981983, 63156242.438788623, 63156045.739244953],\n",
       " [2, 0.0, 0.0, 0.0],\n",
       " [0, -179.93780769780278, 21625916.388009362, 21626096.32581706],\n",
       " [1, 164.60442152619362, 63156407.043210149, 63156242.438788623],\n",
       " [2, 0.0, 0.0, 0.0],\n",
       " [0, -150.57766878977418, 21625765.810340572, 21625916.388009362],\n",
       " [1, 137.74620504677296, 63156544.789415196, 63156407.043210149],\n",
       " [2, 0.0, 0.0, 0.0],\n",
       " [0, -126.0081732198596, 21625639.802167352, 21625765.810340572],\n",
       " [1, 115.27039636671543, 63156660.059811562, 63156544.789415196],\n",
       " [2, 0.0, 0.0, 0.0],\n",
       " [0, -105.44763854146004, 21625534.354528811, 21625639.802167352],\n",
       " [1, 96.46192641556263, 63156756.521737978, 63156660.059811562],\n",
       " [2, 0.0, 0.0, 0.0],\n",
       " [0, -88.241931159049273, 21625446.112597652, 21625534.354528811],\n",
       " [1, 80.722402065992355, 63156837.244140044, 63156756.521737978],\n",
       " [2, 0.0, 0.0, 0.0],\n",
       " [0, -73.84364877268672, 21625372.268948879, 21625446.112597652],\n",
       " [1, 67.551068216562271, 63156904.79520826, 63156837.244140044],\n",
       " [2, 0.0, 0.0, 0.0],\n",
       " [0, -61.794709503650665, 21625310.474239375, 21625372.268948879],\n",
       " [1, 56.52887798845768, 63156961.324086249, 63156904.79520826],\n",
       " [2, 0.0, 0.0, 0.0],\n",
       " [0, -51.711774077266455, 21625258.762465298, 21625310.474239375],\n",
       " [1, 47.305159568786621, 63157008.629245818, 63156961.324086249],\n",
       " [2, 0.0, 0.0, 0.0],\n",
       " [0, -43.274054151028395, 21625215.488411147, 21625258.762465298],\n",
       " [1, 39.586458817124367, 63157048.215704635, 63157008.629245818],\n",
       " [2, 0.0, 0.0, 0.0],\n",
       " [0, -36.213101960718632, 21625179.275309186, 21625215.488411147],\n",
       " [1, 33.127205386757851, 63157081.342910022, 63157048.215704635],\n",
       " [2, 0.0, 0.0, 0.0],\n",
       " [0, -30.304273173213005, 21625148.971036013, 21625179.275309186],\n",
       " [1, 27.721897348761559, 63157109.06480737, 63157081.342910022],\n",
       " [2, 0.0, 0.0, 0.0],\n",
       " [0, -25.359578039497137, 21625123.611457974, 21625148.971036013],\n",
       " [1, 23.198563471436501, 63157132.263370842, 63157109.06480737],\n",
       " [2, 0.0, 0.0, 0.0],\n",
       " [0, -21.221699688583612, 21625102.389758285, 21625123.611457974],\n",
       " [1, 19.41329325735569, 63157151.676664099, 63157132.263370842],\n",
       " [2, 0.0, 0.0, 0.0],\n",
       " [0, -17.758990913629532, 21625084.630767372, 21625102.389758285],\n",
       " [1, 16.24566063284874, 63157167.922324732, 63157151.676664099],\n",
       " [2, 0.0, 0.0, 0.0],\n",
       " [0, -14.861288007348776, 21625069.769479364, 21625084.630767372],\n",
       " [1, 13.594884946942329, 63157181.517209679, 63157167.922324732],\n",
       " [2, 0.0, 0.0, 0.0],\n",
       " [0, -12.436397805809975, 21625057.333081558, 21625069.769479364],\n",
       " [1, 11.376630783081055, 63157192.893840462, 63157181.517209679],\n",
       " [2, 0.0, 0.0, 0.0],\n",
       " [0, -10.407172337174416, 21625046.925909221, 21625057.333081558],\n",
       " [1, 9.5203261226415634, 63157202.414166585, 63157192.893840462],\n",
       " [2, 0.0, 0.0, 0.0],\n",
       " [0, -8.709052037447691, 21625038.216857184, 21625046.925909221],\n",
       " [1, 7.9669110178947449, 63157210.381077603, 63157202.414166585],\n",
       " [2, 0.0, 0.0, 0.0],\n",
       " [0, -7.2880114875733852, 21625030.928845696, 21625038.216857184],\n",
       " [1, 6.6669640392065048, 63157217.048041642, 63157210.381077603],\n",
       " [2, 0.0, 0.0, 0.0],\n",
       " [0, -6.0988392531871796, 21625024.830006443, 21625030.928845696],\n",
       " [1, 5.5791268050670624, 63157222.627168447, 63157217.048041642],\n",
       " [2, 0.0, 0.0, 0.0],\n",
       " [0, -5.1037019453942776, 21625019.726304498, 21625024.830006443],\n",
       " [1, 4.6687909066677094, 63157227.295959353, 63157222.627168447],\n",
       " [2, 0.0, 0.0, 0.0],\n",
       " [0, -4.2709401845932007, 21625015.455364313, 21625019.726304498],\n",
       " [1, 3.9069923162460327, 63157231.20295167, 63157227.295959353],\n",
       " [2, 0.0, 0.0, 0.0],\n",
       " [0, -3.5740582011640072, 21625011.881306112, 21625015.455364313],\n",
       " [1, 3.2694949209690094, 63157234.472446591, 63157231.20295167],\n",
       " [2, 0.0, 0.0, 0.0],\n",
       " [0, -2.9908852800726891, 21625008.890420832, 21625011.881306112],\n",
       " [1, 2.7360168844461441, 63157237.208463475, 63157234.472446591],\n",
       " [2, 0.0, 0.0, 0.0],\n",
       " [0, -2.5028674528002739, 21625006.387553379, 21625008.890420832],\n",
       " [1, 2.2895860821008682, 63157239.498049557, 63157237.208463475],\n",
       " [2, 0.0, 0.0, 0.0],\n",
       " [0, -2.094479288905859, 21625004.29307409, 21625006.387553379],\n",
       " [1, 1.915998175740242, 63157241.414047733, 63157239.498049557],\n",
       " [2, 0.0, 0.0, 0.0],\n",
       " [0, -1.7527263015508652, 21625002.540347788, 21625004.29307409],\n",
       " [1, 1.6033683866262436, 63157243.01741612, 63157241.414047733],\n",
       " [2, 0.0, 0.0, 0.0],\n",
       " [0, -1.4667376577854156, 21625001.073610131, 21625002.540347788],\n",
       " [1, 1.3417493253946304, 63157244.359165445, 63157243.01741612],\n",
       " [2, 0.0, 0.0, 0.0],\n",
       " [0, -1.227412186563015, 21624999.846197944, 21625001.073610131],\n",
       " [1, 1.1228185892105103, 63157245.481984034, 63157244.359165445],\n",
       " [2, 0.0, 0.0, 0.0],\n",
       " [0, -1.0271377302706242, 21624998.819060214, 21624999.846197944],\n",
       " [1, 0.93961024284362793, 63157246.421594277, 63157245.481984034],\n",
       " [2, 0.0, 0.0, 0.0]]"
      ]
     },
     "execution_count": 65,
     "metadata": {},
     "output_type": "execute_result"
    }
   ],
   "source": [
    "coord_change"
   ]
  },
  {
   "cell_type": "code",
   "execution_count": 90,
   "metadata": {
    "collapsed": false
   },
   "outputs": [
    {
     "name": "stdout",
     "output_type": "stream",
     "text": [
      "1.63049248458e+15\n"
     ]
    }
   ],
   "source": [
    "RSS = sum((predict_output(normalized_simple_feature_matrix, weights) - output)**2)\n",
    "print(RSS)"
   ]
  },
  {
   "cell_type": "markdown",
   "metadata": {},
   "source": [
    "# Evaluating LASSO fit with more features"
   ]
  },
  {
   "cell_type": "code",
   "execution_count": 120,
   "metadata": {
    "collapsed": true
   },
   "outputs": [],
   "source": [
    "all_features = ['bedrooms',\n",
    "                'bathrooms',\n",
    "                'sqft_living',\n",
    "                'sqft_lot',\n",
    "                'floors',\n",
    "                'waterfront', \n",
    "                'view', \n",
    "                'condition', \n",
    "                'grade',\n",
    "                'sqft_above',\n",
    "                'sqft_basement',\n",
    "                'yr_built', \n",
    "                'yr_renovated']\n",
    "my_output = 'price'\n",
    "initial_weights = np.zeros(14)\n",
    "l1_penalty = 1e7\n",
    "tolerance = 1.0"
   ]
  },
  {
   "cell_type": "code",
   "execution_count": 121,
   "metadata": {
    "collapsed": false
   },
   "outputs": [],
   "source": [
    "(all_feature_matrix, output) = get_numpy_data(training, all_features, my_output)\n",
    "(normalized_all_feature_matrix, all_norms) = normalize_features(all_feature_matrix) # normalize features"
   ]
  },
  {
   "cell_type": "code",
   "execution_count": 122,
   "metadata": {
    "collapsed": false
   },
   "outputs": [],
   "source": [
    "weights1e7 = lasso_cyclical_coordinate_descent(normalized_all_feature_matrix, output,\n",
    "                                            initial_weights, l1_penalty, tolerance)"
   ]
  },
  {
   "cell_type": "code",
   "execution_count": 123,
   "metadata": {
    "collapsed": false
   },
   "outputs": [
    {
     "name": "stdout",
     "output_type": "stream",
     "text": [
      "const = 24429601.0876\n",
      "bedrooms = 0.0\n",
      "bathrooms = 0.0\n",
      "sqft_living = 48389173.9681\n",
      "sqft_lot = 0.0\n",
      "floors = 0.0\n",
      "waterfront = 3317511.2138\n",
      "view = 7329961.86436\n",
      "condition = 0.0\n",
      "grade = 0.0\n",
      "sqft_above = 0.0\n",
      "sqft_basement = 0.0\n",
      "yr_built = 0.0\n",
      "yr_renovated = 0.0\n"
     ]
    }
   ],
   "source": [
    "print('const', '=', weights1e7[0])\n",
    "for i in range(len(all_features)):\n",
    "    print(all_features[i], '=', weights1e7[i+1])"
   ]
  },
  {
   "cell_type": "code",
   "execution_count": 124,
   "metadata": {
    "collapsed": true
   },
   "outputs": [],
   "source": [
    "l1_penalty=1e8"
   ]
  },
  {
   "cell_type": "code",
   "execution_count": 125,
   "metadata": {
    "collapsed": false
   },
   "outputs": [],
   "source": [
    "weights1e8 = lasso_cyclical_coordinate_descent(normalized_all_feature_matrix, output,\n",
    "                                            initial_weights, l1_penalty, tolerance)"
   ]
  },
  {
   "cell_type": "code",
   "execution_count": 126,
   "metadata": {
    "collapsed": false
   },
   "outputs": [
    {
     "name": "stdout",
     "output_type": "stream",
     "text": [
      "const = 71114625.7149\n",
      "bedrooms = 0.0\n",
      "bathrooms = 0.0\n",
      "sqft_living = 0.0\n",
      "sqft_lot = 0.0\n",
      "floors = 0.0\n",
      "waterfront = 0.0\n",
      "view = 0.0\n",
      "condition = 0.0\n",
      "grade = 0.0\n",
      "sqft_above = 0.0\n",
      "sqft_basement = 0.0\n",
      "yr_built = 0.0\n",
      "yr_renovated = 0.0\n"
     ]
    }
   ],
   "source": [
    "print('const', '=', weights1e8[0])\n",
    "for i in range(len(all_features)):\n",
    "    print(all_features[i], '=', weights1e8[i+1])"
   ]
  },
  {
   "cell_type": "code",
   "execution_count": 127,
   "metadata": {
    "collapsed": true
   },
   "outputs": [],
   "source": [
    "l1_penalty=1e4\n",
    "tolerance=5e5"
   ]
  },
  {
   "cell_type": "code",
   "execution_count": 128,
   "metadata": {
    "collapsed": false
   },
   "outputs": [],
   "source": [
    "weights1e4 = lasso_cyclical_coordinate_descent(normalized_all_feature_matrix, output,\n",
    "                                            initial_weights, l1_penalty, tolerance)"
   ]
  },
  {
   "cell_type": "code",
   "execution_count": 129,
   "metadata": {
    "collapsed": false
   },
   "outputs": [
    {
     "name": "stdout",
     "output_type": "stream",
     "text": [
      "const = 78564738.3416\n",
      "bedrooms = -22097398.9243\n",
      "bathrooms = 12791071.8728\n",
      "sqft_living = 93808088.0928\n",
      "sqft_lot = -2013172.75705\n",
      "floors = -4219184.93265\n",
      "waterfront = 6482842.81754\n",
      "view = 7127408.53481\n",
      "condition = 5001664.8547\n",
      "grade = 14327518.4371\n",
      "sqft_above = -15770959.1524\n",
      "sqft_basement = -5159591.22213\n",
      "yr_built = -84495341.7684\n",
      "yr_renovated = 2824439.49704\n"
     ]
    }
   ],
   "source": [
    "print('const', '=', weights1e4[0])\n",
    "for i in range(len(all_features)):\n",
    "    print(all_features[i], '=', weights1e4[i+1])"
   ]
  },
  {
   "cell_type": "markdown",
   "metadata": {},
   "source": [
    "# Rescaling learned weights"
   ]
  },
  {
   "cell_type": "code",
   "execution_count": 91,
   "metadata": {
    "collapsed": true
   },
   "outputs": [],
   "source": [
    "weights1e8_norm = weights1e8/all_norms"
   ]
  },
  {
   "cell_type": "code",
   "execution_count": 92,
   "metadata": {
    "collapsed": true
   },
   "outputs": [],
   "source": [
    "weights1e7_norm = weights1e7/all_norms"
   ]
  },
  {
   "cell_type": "code",
   "execution_count": 93,
   "metadata": {
    "collapsed": true
   },
   "outputs": [],
   "source": [
    "weights1e4_norm = weights1e4/all_norms"
   ]
  },
  {
   "cell_type": "code",
   "execution_count": 95,
   "metadata": {
    "collapsed": false
   },
   "outputs": [
    {
     "name": "stdout",
     "output_type": "stream",
     "text": [
      "161.317454968\n"
     ]
    }
   ],
   "source": [
    "print( weights1e7_norm[3])"
   ]
  },
  {
   "cell_type": "markdown",
   "metadata": {},
   "source": [
    "# Evaluating each of the learned models on the test data"
   ]
  },
  {
   "cell_type": "code",
   "execution_count": 96,
   "metadata": {
    "collapsed": true
   },
   "outputs": [],
   "source": [
    "(test_feature_matrix, test_output) = get_numpy_data(testing, all_features, 'price')"
   ]
  },
  {
   "cell_type": "code",
   "execution_count": 97,
   "metadata": {
    "collapsed": true
   },
   "outputs": [],
   "source": [
    "def RSS(weights):\n",
    "    RSS = sum((predict_output(test_feature_matrix, weights) - test_output)**2)\n",
    "    print(RSS)"
   ]
  },
  {
   "cell_type": "code",
   "execution_count": 99,
   "metadata": {
    "collapsed": false
   },
   "outputs": [
    {
     "name": "stdout",
     "output_type": "stream",
     "text": [
      "5.37166151497e+14\n",
      "2.75962077477e+14\n",
      "2.28459958971e+14\n"
     ]
    }
   ],
   "source": [
    "RSS(weights1e8_norm),\n",
    "RSS(weights1e7_norm),\n",
    "RSS(weights1e4_norm)"
   ]
  }
 ],
 "metadata": {
  "kernelspec": {
   "display_name": "Python 3",
   "language": "python",
   "name": "python3"
  },
  "language_info": {
   "codemirror_mode": {
    "name": "ipython",
    "version": 3
   },
   "file_extension": ".py",
   "mimetype": "text/x-python",
   "name": "python",
   "nbconvert_exporter": "python",
   "pygments_lexer": "ipython3",
   "version": "3.5.1"
  }
 },
 "nbformat": 4,
 "nbformat_minor": 0
}
