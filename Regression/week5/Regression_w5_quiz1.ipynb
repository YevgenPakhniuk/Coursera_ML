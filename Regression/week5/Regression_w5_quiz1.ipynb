{
 "cells": [
  {
   "cell_type": "code",
   "execution_count": 23,
   "metadata": {
    "collapsed": true
   },
   "outputs": [],
   "source": [
    "import pandas as pd\n",
    "import numpy as np\n",
    "\n",
    "dtype_dict = {'bathrooms':float, 'waterfront':int, 'sqft_above':int, 'sqft_living15':float, 'grade':int, 'yr_renovated':int, 'price':float, 'bedrooms':float, 'zipcode':str, 'long':float, 'sqft_lot15':float, 'sqft_living':float, 'floors':float, 'condition':int, 'lat':float, 'date':str, 'sqft_basement':int, 'yr_built':int, 'id':str, 'sqft_lot':int, 'view':int}\n",
    "\n",
    "kc_data = pd.read_csv('c://users/intel/Desktop/Coursera/Regression/week5/kc_house_data.csv', dtype=dtype_dict)\n",
    "training = pd.read_csv('c://users/intel/Desktop/Coursera/Regression/week5/wk3_kc_house_train_data.csv', dtype=dtype_dict)\n",
    "validation = pd.read_csv('c://users/intel/Desktop/Coursera/Regression/week5/wk3_kc_house_valid_data.csv', dtype=dtype_dict)\n",
    "testing = pd.read_csv('c://users/intel/Desktop/Coursera/Regression/week5/wk3_kc_house_test_data.csv', dtype=dtype_dict)"
   ]
  },
  {
   "cell_type": "code",
   "execution_count": 2,
   "metadata": {
    "collapsed": true
   },
   "outputs": [],
   "source": [
    "from math import log, sqrt\n",
    "kc_data['sqft_living_sqrt'] = kc_data['sqft_living'].apply(sqrt)\n",
    "kc_data['sqft_lot_sqrt'] = kc_data['sqft_lot'].apply(sqrt)\n",
    "kc_data['bedrooms_square'] = kc_data['bedrooms']*kc_data['bedrooms']\n",
    "kc_data['floors_square'] = kc_data['floors']*kc_data['floors']"
   ]
  },
  {
   "cell_type": "code",
   "execution_count": 3,
   "metadata": {
    "collapsed": false
   },
   "outputs": [
    {
     "data": {
      "text/plain": [
       "Lasso(alpha=500.0, copy_X=True, fit_intercept=True, max_iter=1000,\n",
       "   normalize=True, positive=False, precompute=False, random_state=None,\n",
       "   selection='cyclic', tol=0.0001, warm_start=False)"
      ]
     },
     "execution_count": 3,
     "metadata": {},
     "output_type": "execute_result"
    }
   ],
   "source": [
    "from sklearn import linear_model  # using scikit-learn\n",
    "\n",
    "all_features = ['bedrooms', 'bedrooms_square',\n",
    "            'bathrooms',\n",
    "            'sqft_living', 'sqft_living_sqrt',\n",
    "            'sqft_lot', 'sqft_lot_sqrt',\n",
    "            'floors', 'floors_square',\n",
    "            'waterfront', 'view', 'condition', 'grade',\n",
    "            'sqft_above',\n",
    "            'sqft_basement',\n",
    "            'yr_built', 'yr_renovated']\n",
    "\n",
    "model_all = linear_model.Lasso(alpha=5e2, normalize=True) # set parameters\n",
    "model_all.fit(kc_data[all_features], kc_data['price']) # learn weights"
   ]
  },
  {
   "cell_type": "code",
   "execution_count": 13,
   "metadata": {
    "collapsed": false
   },
   "outputs": [
    {
     "data": {
      "text/plain": [
       "array([     0.        ,      0.        ,      0.        ,    134.43931396,\n",
       "            0.        ,      0.        ,      0.        ,      0.        ,\n",
       "            0.        ,      0.        ,  24750.00458561,      0.        ,\n",
       "        61749.10309071,      0.        ,      0.        ,     -0.        ,\n",
       "            0.        ])"
      ]
     },
     "execution_count": 13,
     "metadata": {},
     "output_type": "execute_result"
    }
   ],
   "source": [
    "model_all.coef_"
   ]
  },
  {
   "cell_type": "code",
   "execution_count": 19,
   "metadata": {
    "collapsed": false
   },
   "outputs": [
    {
     "name": "stdout",
     "output_type": "stream",
     "text": [
      "bedrooms = 0.0\n",
      "bedrooms_square = 0.0\n",
      "bathrooms = 0.0\n",
      "sqft_living = 134.439313955\n",
      "sqft_living_sqrt = 0.0\n",
      "sqft_lot = 0.0\n",
      "sqft_lot_sqrt = 0.0\n",
      "floors = 0.0\n",
      "floors_square = 0.0\n",
      "waterfront = 0.0\n",
      "view = 24750.0045856\n",
      "condition = 0.0\n",
      "grade = 61749.1030907\n",
      "sqft_above = 0.0\n",
      "sqft_basement = 0.0\n",
      "yr_built = -0.0\n",
      "yr_renovated = 0.0\n"
     ]
    }
   ],
   "source": [
    "for i in range(0, len(all_features)): \n",
    "    print (all_features[i], '=',  model_all.coef_[i])"
   ]
  },
  {
   "cell_type": "code",
   "execution_count": 28,
   "metadata": {
    "collapsed": false
   },
   "outputs": [],
   "source": [
    "testing['sqft_living_sqrt'] = testing['sqft_living'].apply(sqrt)\n",
    "testing['sqft_lot_sqrt'] = testing['sqft_lot'].apply(sqrt)\n",
    "testing['bedrooms_square'] = testing['bedrooms']*testing['bedrooms']\n",
    "testing['floors_square'] = testing['floors']*testing['floors']\n",
    "\n",
    "training['sqft_living_sqrt'] = training['sqft_living'].apply(sqrt)\n",
    "training['sqft_lot_sqrt'] = training['sqft_lot'].apply(sqrt)\n",
    "training['bedrooms_square'] = training['bedrooms']*training['bedrooms']\n",
    "training['floors_square'] = training['floors']*training['floors']\n",
    "\n",
    "validation['sqft_living_sqrt'] = validation['sqft_living'].apply(sqrt)\n",
    "validation['sqft_lot_sqrt'] = validation['sqft_lot'].apply(sqrt)\n",
    "validation['bedrooms_square'] = validation['bedrooms']*validation['bedrooms']\n",
    "validation['floors_square'] = validation['floors']*validation['floors']"
   ]
  },
  {
   "cell_type": "code",
   "execution_count": 42,
   "metadata": {
    "collapsed": false
   },
   "outputs": [
    {
     "name": "stdout",
     "output_type": "stream",
     "text": [
      "10.0 \t 3.982133273e+14\n",
      "31.6227766017 \t 3.99041900253e+14\n",
      "100.0 \t 4.29791604073e+14\n",
      "316.227766017 \t 4.63739831045e+14\n",
      "1000.0 \t 6.45898733634e+14\n",
      "3162.27766017 \t 1.22250685943e+15\n",
      "10000.0 \t 1.22250685943e+15\n",
      "31622.7766017 \t 1.22250685943e+15\n",
      "100000.0 \t 1.22250685943e+15\n",
      "316227.766017 \t 1.22250685943e+15\n",
      "1000000.0 \t 1.22250685943e+15\n",
      "3162277.66017 \t 1.22250685943e+15\n",
      "10000000.0 \t 1.22250685943e+15\n"
     ]
    }
   ],
   "source": [
    "RES_LIST = []\n",
    "for l1_penalty in np.logspace(1, 7, num=13):\n",
    "    model = linear_model.Lasso(alpha=l1_penalty, normalize=True)\n",
    "    model.fit(training[all_features], training['price']) # learn weights\n",
    "    residuals = model.predict(validation[all_features]) - validation['price']\n",
    "    RSS = sum(residuals**2)\n",
    "    RES_LIST.append([l1_penalty, RSS])\n",
    "    print (l1_penalty, '\\t', RSS)"
   ]
  },
  {
   "cell_type": "code",
   "execution_count": 59,
   "metadata": {
    "collapsed": false
   },
   "outputs": [
    {
     "data": {
      "text/plain": [
       "[[10.0, 398213327300134.19],\n",
       " [31.622776601683793, 399041900253348.5],\n",
       " [100.0, 429791604072557.94],\n",
       " [316.22776601683796, 463739831045119.5],\n",
       " [1000.0, 645898733633810.13],\n",
       " [3162.2776601683795, 1222506859427156.8],\n",
       " [10000.0, 1222506859427156.8],\n",
       " [31622.776601683792, 1222506859427156.8],\n",
       " [100000.0, 1222506859427156.8],\n",
       " [316227.76601683791, 1222506859427156.8],\n",
       " [1000000.0, 1222506859427156.8],\n",
       " [3162277.6601683795, 1222506859427156.8],\n",
       " [10000000.0, 1222506859427156.8]]"
      ]
     },
     "execution_count": 59,
     "metadata": {},
     "output_type": "execute_result"
    }
   ],
   "source": [
    "RES_LIST[:][:]"
   ]
  },
  {
   "cell_type": "code",
   "execution_count": 62,
   "metadata": {
    "collapsed": false
   },
   "outputs": [
    {
     "name": "stdout",
     "output_type": "stream",
     "text": [
      "9.84674025527e+13\n"
     ]
    }
   ],
   "source": [
    "model = linear_model.Lasso(alpha=10.0, normalize=True)\n",
    "model.fit(training[all_features], training['price']) # learn weights\n",
    "residuals_test = model.predict(testing[all_features]) - testing['price']\n",
    "RSS = sum(residuals_test**2)\n",
    "print (RSS)"
   ]
  },
  {
   "cell_type": "code",
   "execution_count": 63,
   "metadata": {
    "collapsed": false
   },
   "outputs": [
    {
     "name": "stdout",
     "output_type": "stream",
     "text": [
      "15\n"
     ]
    }
   ],
   "source": [
    "print(np.count_nonzero(model.coef_) + np.count_nonzero(model.intercept_) )"
   ]
  },
  {
   "cell_type": "markdown",
   "metadata": {},
   "source": [
    "# limit ourselves to 7 features"
   ]
  },
  {
   "cell_type": "code",
   "execution_count": 65,
   "metadata": {
    "collapsed": true
   },
   "outputs": [],
   "source": [
    "max_nonzeros = 7"
   ]
  },
  {
   "cell_type": "code",
   "execution_count": 74,
   "metadata": {
    "collapsed": false
   },
   "outputs": [
    {
     "name": "stdout",
     "output_type": "stream",
     "text": [
      "127.42749857 263.665089873\n",
      "[[10.0, 15], [14.384498882876629, 15], [20.691380811147901, 15], [29.763514416313178, 15], [42.813323987193932, 13], [61.584821106602639, 12], [88.586679041008225, 11], [127.42749857031335, 10], [183.29807108324357, 7], [263.66508987303581, 6], [379.26901907322497, 6], [545.55947811685144, 6], [784.75997035146065, 5], [1128.8378916846884, 3], [1623.776739188721, 3], [2335.7214690901214, 2], [3359.8182862837812, 1], [4832.9302385717519, 1], [6951.9279617756056, 1], [10000.0, 1]]\n"
     ]
    }
   ],
   "source": [
    "coef_list = []\n",
    "l1_penalty_min = 0\n",
    "l1_penalty_max = 100000\n",
    "for l1_penalty in np.logspace(1, 4, num=20):\n",
    "    model = linear_model.Lasso(alpha=l1_penalty, normalize=True)\n",
    "    model.fit(training[all_features], training['price']) # learn weights\n",
    "    non_zeros = np.count_nonzero(model.coef_) + np.count_nonzero(model.intercept_)\n",
    "    coef_list.append([l1_penalty, non_zeros])\n",
    "    if non_zeros > max_nonzeros:\n",
    "        if l1_penalty_min <= l1_penalty:\n",
    "            l1_penalty_min=l1_penalty\n",
    "    if non_zeros < max_nonzeros:\n",
    "        if l1_penalty_max >= l1_penalty:\n",
    "            l1_penalty_max=l1_penalty   \n",
    "print (l1_penalty_min, l1_penalty_max)\n",
    "print (coef_list[:][:])"
   ]
  },
  {
   "cell_type": "code",
   "execution_count": 84,
   "metadata": {
    "collapsed": false
   },
   "outputs": [],
   "source": [
    "coef_list_det = []\n",
    "for l1_penalty in np.linspace(l1_penalty_min, l1_penalty_max, 20):\n",
    "    model = linear_model.Lasso(alpha=l1_penalty, normalize=True)\n",
    "    model.fit(training[all_features], training['price']) # learn weights\n",
    "    non_zeros = np.count_nonzero(model.coef_) + np.count_nonzero(model.intercept_)\n",
    "    if non_zeros==max_nonzeros:\n",
    "        residuals_valid = model.predict(validation[all_features]) - validation['price']\n",
    "        RSS = sum(residuals_valid**2)\n",
    "        coef_list_det.append([l1_penalty, non_zeros, RSS])"
   ]
  },
  {
   "cell_type": "code",
   "execution_count": 82,
   "metadata": {
    "collapsed": false
   },
   "outputs": [
    {
     "data": {
      "text/plain": [
       "[[156.10909673930755, 7, 440037365263317.13],\n",
       " [163.27949628155611, 7, 440777489641605.38],\n",
       " [170.44989582380464, 7, 441566698090139.0],\n",
       " [177.6202953660532, 7, 442406413188665.31],\n",
       " [184.79069490830176, 7, 443296716874313.06],\n",
       " [191.96109445055032, 7, 444239780526141.31],\n",
       " [199.13149399279888, 7, 445230739842613.94]]"
      ]
     },
     "execution_count": 82,
     "metadata": {},
     "output_type": "execute_result"
    }
   ],
   "source": [
    "coef_list_det[:]"
   ]
  },
  {
   "cell_type": "code",
   "execution_count": 85,
   "metadata": {
    "collapsed": false
   },
   "outputs": [
    {
     "name": "stdout",
     "output_type": "stream",
     "text": [
      "bedrooms = -0.0\n",
      "bedrooms_square = -0.0\n",
      "bathrooms = 10610.8902844\n",
      "sqft_living = 163.380251648\n",
      "sqft_living_sqrt = 0.0\n",
      "sqft_lot = -0.0\n",
      "sqft_lot_sqrt = -0.0\n",
      "floors = 0.0\n",
      "floors_square = 0.0\n",
      "waterfront = 506451.687115\n",
      "view = 41960.0435549\n",
      "condition = 0.0\n",
      "grade = 116253.5537\n",
      "sqft_above = 0.0\n",
      "sqft_basement = 0.0\n",
      "yr_built = -2612.23488036\n",
      "yr_renovated = 0.0\n"
     ]
    }
   ],
   "source": [
    "final_model = linear_model.Lasso(alpha=156.10909673930755, normalize=True)\n",
    "final_model.fit(training[all_features], training['price'])\n",
    "for i in range(0, len(all_features)): \n",
    "    print (all_features[i], '=',  final_model.coef_[i])"
   ]
  }
 ],
 "metadata": {
  "kernelspec": {
   "display_name": "Python 3",
   "language": "python",
   "name": "python3"
  },
  "language_info": {
   "codemirror_mode": {
    "name": "ipython",
    "version": 3
   },
   "file_extension": ".py",
   "mimetype": "text/x-python",
   "name": "python",
   "nbconvert_exporter": "python",
   "pygments_lexer": "ipython3",
   "version": "3.5.1"
  }
 },
 "nbformat": 4,
 "nbformat_minor": 0
}
