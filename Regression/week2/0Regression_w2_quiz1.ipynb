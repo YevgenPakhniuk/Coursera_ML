{
 "cells": [
  {
   "cell_type": "code",
   "execution_count": 1,
   "metadata": {
    "collapsed": true
   },
   "outputs": [],
   "source": [
    "import pandas as pd\n",
    "import numpy as np"
   ]
  },
  {
   "cell_type": "code",
   "execution_count": 5,
   "metadata": {
    "collapsed": true
   },
   "outputs": [],
   "source": [
    "from sklearn import linear_model"
   ]
  },
  {
   "cell_type": "code",
   "execution_count": 3,
   "metadata": {
    "collapsed": true
   },
   "outputs": [],
   "source": [
    "kc_test = pd.read_csv('c://users/intel/Desktop/Coursera/Regression/week2/kc_house_test_data.csv', dtype= {'bathrooms':float, 'waterfront':int, 'sqft_above':int, 'sqft_living15':float, 'grade':int, 'yr_renovated':int, 'price':float, 'bedrooms':float, 'zipcode':str, 'long':float, 'sqft_lot15':float, 'sqft_living':float, 'floors':str, 'condition':int, 'lat':float, 'date':str, 'sqft_basement':int, 'yr_built':int, 'id':str, 'sqft_lot':int, 'view':int})\n",
    "kc_train = pd.read_csv('c://users/intel/Desktop/Coursera/Regression/week2/kc_house_train_data.csv', dtype= {'bathrooms':float, 'waterfront':int, 'sqft_above':int, 'sqft_living15':float, 'grade':int, 'yr_renovated':int, 'price':float, 'bedrooms':float, 'zipcode':str, 'long':float, 'sqft_lot15':float, 'sqft_living':float, 'floors':str, 'condition':int, 'lat':float, 'date':str, 'sqft_basement':int, 'yr_built':int, 'id':str, 'sqft_lot':int, 'view':int})"
   ]
  },
  {
   "cell_type": "code",
   "execution_count": 4,
   "metadata": {
    "collapsed": true
   },
   "outputs": [],
   "source": [
    "x_train, x_test = kc_train, kc_test"
   ]
  },
  {
   "cell_type": "code",
   "execution_count": 13,
   "metadata": {
    "collapsed": false
   },
   "outputs": [
    {
     "data": {
      "text/html": [
       "<div>\n",
       "<table border=\"1\" class=\"dataframe\">\n",
       "  <thead>\n",
       "    <tr style=\"text-align: right;\">\n",
       "      <th></th>\n",
       "      <th>sqft_living</th>\n",
       "      <th>bedrooms</th>\n",
       "      <th>bathrooms</th>\n",
       "    </tr>\n",
       "  </thead>\n",
       "  <tbody>\n",
       "    <tr>\n",
       "      <th>0</th>\n",
       "      <td>1180.0</td>\n",
       "      <td>3.0</td>\n",
       "      <td>1.00</td>\n",
       "    </tr>\n",
       "    <tr>\n",
       "      <th>1</th>\n",
       "      <td>2570.0</td>\n",
       "      <td>3.0</td>\n",
       "      <td>2.25</td>\n",
       "    </tr>\n",
       "    <tr>\n",
       "      <th>2</th>\n",
       "      <td>770.0</td>\n",
       "      <td>2.0</td>\n",
       "      <td>1.00</td>\n",
       "    </tr>\n",
       "    <tr>\n",
       "      <th>3</th>\n",
       "      <td>1960.0</td>\n",
       "      <td>4.0</td>\n",
       "      <td>3.00</td>\n",
       "    </tr>\n",
       "    <tr>\n",
       "      <th>4</th>\n",
       "      <td>1680.0</td>\n",
       "      <td>3.0</td>\n",
       "      <td>2.00</td>\n",
       "    </tr>\n",
       "  </tbody>\n",
       "</table>\n",
       "</div>"
      ],
      "text/plain": [
       "   sqft_living  bedrooms  bathrooms\n",
       "0       1180.0       3.0       1.00\n",
       "1       2570.0       3.0       2.25\n",
       "2        770.0       2.0       1.00\n",
       "3       1960.0       4.0       3.00\n",
       "4       1680.0       3.0       2.00"
      ]
     },
     "execution_count": 13,
     "metadata": {},
     "output_type": "execute_result"
    }
   ],
   "source": [
    "example_features = ['sqft_living', 'bedrooms', 'bathrooms']\n",
    "x_train[example_features].head()"
   ]
  },
  {
   "cell_type": "code",
   "execution_count": 89,
   "metadata": {
    "collapsed": false
   },
   "outputs": [],
   "source": [
    "model = linear_model.base.LinearRegression(fit_intercept=True)\n",
    "regr = model.fit(x_train[example_features], x_train['price'])"
   ]
  },
  {
   "cell_type": "code",
   "execution_count": 28,
   "metadata": {
    "collapsed": false
   },
   "outputs": [
    {
     "name": "stdout",
     "output_type": "stream",
     "text": [
      "(array([   315.40669062, -65081.88711588,   6942.16598637]), 87912.865814964636)\n"
     ]
    }
   ],
   "source": [
    "example_weight_summary = regr.coef_, regr.intercept_\n",
    "print(example_weight_summary)"
   ]
  },
  {
   "cell_type": "code",
   "execution_count": 36,
   "metadata": {
    "collapsed": false
   },
   "outputs": [
    {
     "name": "stdout",
     "output_type": "stream",
     "text": [
      "271789.26538\n"
     ]
    }
   ],
   "source": [
    "example_predictions = regr.predict(x_train[example_features])\n",
    "print(example_predictions[0]) # should be 271789.505878"
   ]
  },
  {
   "cell_type": "markdown",
   "metadata": {},
   "source": [
    "# Compute RSS"
   ]
  },
  {
   "cell_type": "code",
   "execution_count": 37,
   "metadata": {
    "collapsed": true
   },
   "outputs": [],
   "source": [
    "def get_residual_sum_of_squares(model, dataset, features, outcome):\n",
    "    example_predictions = model.predict(dataset[features])\n",
    "    residuals = example_predictions - dataset[outcome]\n",
    "    # Then compute the residuals/errors\n",
    "    RSS = sum(residuals**2)\n",
    "    # Then square and add them up\n",
    "    return(RSS)"
   ]
  },
  {
   "cell_type": "code",
   "execution_count": 92,
   "metadata": {
    "collapsed": false
   },
   "outputs": [
    {
     "data": {
      "text/plain": [
       "273761940583133.97"
      ]
     },
     "execution_count": 92,
     "metadata": {},
     "output_type": "execute_result"
    }
   ],
   "source": [
    "get_residual_sum_of_squares(regr, x_test, example_features, 'price')"
   ]
  },
  {
   "cell_type": "markdown",
   "metadata": {},
   "source": [
    "# Create new features"
   ]
  },
  {
   "cell_type": "code",
   "execution_count": 48,
   "metadata": {
    "collapsed": false
   },
   "outputs": [],
   "source": [
    "from math import log"
   ]
  },
  {
   "cell_type": "code",
   "execution_count": 46,
   "metadata": {
    "collapsed": false
   },
   "outputs": [
    {
     "name": "stdout",
     "output_type": "stream",
     "text": [
      "Help on built-in function log in module math:\n",
      "\n",
      "log(...)\n",
      "    log(x[, base])\n",
      "    \n",
      "    Return the logarithm of x to the given base.\n",
      "    If the base not specified, returns the natural logarithm (base e) of x.\n",
      "\n"
     ]
    }
   ],
   "source": [
    "help(log)"
   ]
  },
  {
   "cell_type": "code",
   "execution_count": 41,
   "metadata": {
    "collapsed": true
   },
   "outputs": [],
   "source": [
    "x_train['bedrooms_squared'] = x_train['bedrooms'].apply(lambda x: x**2)\n",
    "x_test['bedrooms_squared'] = x_test['bedrooms'].apply(lambda x: x**2)\n",
    "x_train['bed_bath_rooms'] = x_train['bedrooms']*x_train['bathrooms']\n",
    "x_test['bed_bath_rooms'] = x_test['bedrooms']*x_test['bathrooms']\n",
    "x_train['log_sqft_living'] = x_train['sqft_living'].apply(lambda x: log(x))\n",
    "x_test['log_sqft_living'] = x_test['sqft_living'].apply(lambda x: log(x))\n",
    "x_train['lat_plus_long'] = x_train['lat'] + x_train['long']\n",
    "x_test['lat_plus_long'] = x_test['lat'] + x_test['long']"
   ]
  },
  {
   "cell_type": "code",
   "execution_count": 50,
   "metadata": {
    "collapsed": true
   },
   "outputs": [],
   "source": [
    "def mean_value(dataset, feature_name):\n",
    "    avg = dataset[feature_name].mean()\n",
    "    return(avg)"
   ]
  },
  {
   "cell_type": "code",
   "execution_count": 52,
   "metadata": {
    "collapsed": false
   },
   "outputs": [
    {
     "data": {
      "text/plain": [
       "bedrooms_squared    12.45\n",
       "bed_bath_rooms       7.50\n",
       "log_sqft_living      7.55\n",
       "lat_plus_long      -74.65\n",
       "dtype: float64"
      ]
     },
     "execution_count": 52,
     "metadata": {},
     "output_type": "execute_result"
    }
   ],
   "source": [
    "features = ['bedrooms_squared', 'bed_bath_rooms','log_sqft_living','lat_plus_long']\n",
    "round(mean_value(x_test, features), 2)"
   ]
  },
  {
   "cell_type": "markdown",
   "metadata": {},
   "source": [
    "# Learning Multiple Models"
   ]
  },
  {
   "cell_type": "code",
   "execution_count": 54,
   "metadata": {
    "collapsed": true
   },
   "outputs": [],
   "source": [
    "model_1_features = ['sqft_living', 'bedrooms', 'bathrooms', 'lat', 'long']\n",
    "model_2_features = model_1_features + ['bed_bath_rooms']\n",
    "model_3_features = model_2_features + ['bedrooms_squared', 'log_sqft_living', 'lat_plus_long']"
   ]
  },
  {
   "cell_type": "code",
   "execution_count": 80,
   "metadata": {
    "collapsed": true
   },
   "outputs": [],
   "source": [
    "def models_creation(dataset, model_features):\n",
    "    model = linear_model.base.LinearRegression(fit_intercept=True)\n",
    "    model.fit(dataset[model_features], dataset['price'])\n",
    "    model_weight_summary = model.coef_, model.intercept_\n",
    "    return(model_weight_summary)"
   ]
  },
  {
   "cell_type": "code",
   "execution_count": 81,
   "metadata": {
    "collapsed": false
   },
   "outputs": [
    {
     "name": "stdout",
     "output_type": "stream",
     "text": [
      "(array([  3.12258646e+02,  -5.95865332e+04,   1.57067421e+04,\n",
      "         6.58619264e+05,  -3.09374351e+05]), -69075726.792569771)\n",
      "(array([  3.06610053e+02,  -1.13446368e+05,  -7.14613083e+04,\n",
      "         6.54844630e+05,  -2.94298969e+05,   2.55796520e+04]), -66867968.871078826)\n",
      "(array([  5.29422820e+02,   3.45142296e+04,   6.70607813e+04,\n",
      "         5.34085611e+05,  -4.06750711e+05,  -8.57050439e+03,\n",
      "        -6.78858667e+03,  -5.61831484e+05,   1.27334900e+05]), -62036084.986098312)\n"
     ]
    }
   ],
   "source": [
    "model_name_weight_1 = models_creation(x_train, model_1_features)\n",
    "model_name_weight_2 = models_creation(x_train, model_2_features)\n",
    "model_name_weight_3 = models_creation(x_train, model_3_features)\n",
    "print(model_name_weight_1)\n",
    "print(model_name_weight_2)\n",
    "print(model_name_weight_3)"
   ]
  },
  {
   "cell_type": "markdown",
   "metadata": {},
   "source": [
    "# Comparing multiple models"
   ]
  },
  {
   "cell_type": "code",
   "execution_count": 100,
   "metadata": {
    "collapsed": true
   },
   "outputs": [],
   "source": [
    "model1 = linear_model.base.LinearRegression(fit_intercept=True)\n",
    "model2 = linear_model.base.LinearRegression(fit_intercept=True)\n",
    "model3 = linear_model.base.LinearRegression(fit_intercept=True)\n",
    "regr1 = model1.fit(x_train[model_1_features], x_train['price'])\n",
    "regr2 = model2.fit(x_train[model_2_features], x_train['price'])\n",
    "regr3 = model3.fit(x_train[model_3_features], x_train['price'])"
   ]
  },
  {
   "cell_type": "code",
   "execution_count": 105,
   "metadata": {
    "collapsed": false
   },
   "outputs": [
    {
     "name": "stdout",
     "output_type": "stream",
     "text": [
      "[967879963049549.13, 958419635074069.25, 903436455050480.5]\n"
     ]
    }
   ],
   "source": [
    "rss_train = [get_residual_sum_of_squares(regr1, x_train, model_1_features, 'price'),\n",
    "       get_residual_sum_of_squares(regr2, x_train, model_2_features, 'price'),\n",
    "       get_residual_sum_of_squares(regr3, x_train, model_3_features, 'price')]\n",
    "print(rss_train)"
   ]
  },
  {
   "cell_type": "code",
   "execution_count": 106,
   "metadata": {
    "collapsed": false
   },
   "outputs": [
    {
     "name": "stdout",
     "output_type": "stream",
     "text": [
      "[225500469795490.31, 223377462976466.31, 259236319207180.0]\n"
     ]
    }
   ],
   "source": [
    "rss_test = [get_residual_sum_of_squares(regr1, x_test, model_1_features, 'price'),\n",
    "       get_residual_sum_of_squares(regr2, x_test, model_2_features, 'price'),\n",
    "       get_residual_sum_of_squares(regr3, x_test, model_3_features, 'price')]\n",
    "print(rss_test)"
   ]
  }
 ],
 "metadata": {
  "kernelspec": {
   "display_name": "Python 3",
   "language": "python",
   "name": "python3"
  },
  "language_info": {
   "codemirror_mode": {
    "name": "ipython",
    "version": 3
   },
   "file_extension": ".py",
   "mimetype": "text/x-python",
   "name": "python",
   "nbconvert_exporter": "python",
   "pygments_lexer": "ipython3",
   "version": "3.5.1"
  }
 },
 "nbformat": 4,
 "nbformat_minor": 0
}
